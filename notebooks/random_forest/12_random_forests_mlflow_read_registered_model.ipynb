{
  "cells": [
    {
      "cell_type": "markdown",
      "metadata": {},
      "source": [
        "# Vamos utilizar o mlflow para ler um modelo registado"
      ]
    },
    {
      "cell_type": "markdown",
      "metadata": {},
      "source": [
        "Neste notebook iremos utilizar o modelo que registamos no notebook anterior para fazer previsões.\n",
        "\n",
        "Referências:\n",
        "* [Model Registry API](https://www.mlflow.org/docs/latest/model-registry.html#fetching-an-mlflow-model-from-the-model-registry)\n",
        "    * [Ir buscar um modelo ao Model Registry](https://www.mlflow.org/docs/latest/model-registry.html#fetching-an-mlflow-model-from-the-model-registry)\n",
        "* [mlflow python model interface](https://www.mlflow.org/docs/latest/python_api/mlflow.pyfunc.html#module-mlflow.pyfunc)\n",
        "    * [mlflow.pyfunc.load_model()](https://www.mlflow.org/docs/latest/python_api/mlflow.pyfunc.html#mlflow.pyfunc.load_model)"
      ]
    },
    {
      "cell_type": "code",
      "execution_count": 1,
      "metadata": {},
      "outputs": [],
      "source": [
        "import mlflow\n",
        "import pandas as pd"
      ]
    },
    {
      "cell_type": "code",
      "execution_count": 2,
      "metadata": {},
      "outputs": [
        {
          "name": "stdout",
          "output_type": "stream",
          "text": [
            "Requirement already satisfied: mlflow in c:\\users\\gilso\\anaconda3\\lib\\site-packages (2.8.1)\n",
            "Requirement already satisfied: requests<3,>=2.17.3 in c:\\users\\gilso\\anaconda3\\lib\\site-packages (from mlflow) (2.27.1)\n",
            "Requirement already satisfied: entrypoints<1 in c:\\users\\gilso\\anaconda3\\lib\\site-packages (from mlflow) (0.4)\n",
            "Requirement already satisfied: Jinja2<4,>=3.0 in c:\\users\\gilso\\anaconda3\\lib\\site-packages (from mlflow) (3.1.2)\n",
            "Requirement already satisfied: pyarrow<15,>=4.0.0 in c:\\users\\gilso\\anaconda3\\lib\\site-packages (from mlflow) (14.0.1)\n",
            "Requirement already satisfied: packaging<24 in c:\\users\\gilso\\anaconda3\\lib\\site-packages (from mlflow) (21.3)\n",
            "Requirement already satisfied: matplotlib<4 in c:\\users\\gilso\\anaconda3\\lib\\site-packages (from mlflow) (3.5.1)\n",
            "Requirement already satisfied: databricks-cli<1,>=0.8.7 in c:\\users\\gilso\\anaconda3\\lib\\site-packages (from mlflow) (0.18.0)\n",
            "Requirement already satisfied: protobuf<5,>=3.12.0 in c:\\users\\gilso\\anaconda3\\lib\\site-packages (from mlflow) (3.19.1)\n",
            "Requirement already satisfied: sqlalchemy<3,>=1.4.0 in c:\\users\\gilso\\anaconda3\\lib\\site-packages (from mlflow) (1.4.32)\n",
            "Requirement already satisfied: alembic!=1.10.0,<2 in c:\\users\\gilso\\anaconda3\\lib\\site-packages (from mlflow) (1.12.1)\n",
            "Requirement already satisfied: Flask<4 in c:\\users\\gilso\\anaconda3\\lib\\site-packages (from mlflow) (1.1.2)\n",
            "Requirement already satisfied: cloudpickle<3 in c:\\users\\gilso\\anaconda3\\lib\\site-packages (from mlflow) (2.0.0)\n",
            "Requirement already satisfied: pytz<2024 in c:\\users\\gilso\\anaconda3\\lib\\site-packages (from mlflow) (2021.3)\n",
            "Requirement already satisfied: scipy<2 in c:\\users\\gilso\\anaconda3\\lib\\site-packages (from mlflow) (1.7.3)\n",
            "Requirement already satisfied: pandas<3 in c:\\users\\gilso\\anaconda3\\lib\\site-packages (from mlflow) (2.1.1)\n",
            "Requirement already satisfied: gitpython<4,>=2.1.0 in c:\\users\\gilso\\anaconda3\\lib\\site-packages (from mlflow) (3.1.40)\n",
            "Requirement already satisfied: pyyaml<7,>=5.1 in c:\\users\\gilso\\anaconda3\\lib\\site-packages (from mlflow) (6.0)\n",
            "Requirement already satisfied: click<9,>=7.0 in c:\\users\\gilso\\anaconda3\\lib\\site-packages (from mlflow) (8.0.4)\n",
            "Requirement already satisfied: docker<7,>=4.0.0 in c:\\users\\gilso\\anaconda3\\lib\\site-packages (from mlflow) (6.1.3)\n",
            "Requirement already satisfied: sqlparse<1,>=0.4.0 in c:\\users\\gilso\\anaconda3\\lib\\site-packages (from mlflow) (0.4.4)\n",
            "Requirement already satisfied: querystring-parser<2 in c:\\users\\gilso\\anaconda3\\lib\\site-packages (from mlflow) (1.2.4)\n",
            "Requirement already satisfied: markdown<4,>=3.3 in c:\\users\\gilso\\anaconda3\\lib\\site-packages (from mlflow) (3.3.4)\n",
            "Requirement already satisfied: importlib-metadata!=4.7.0,<7,>=3.7.0 in c:\\users\\gilso\\anaconda3\\lib\\site-packages (from mlflow) (4.11.3)\n",
            "Requirement already satisfied: numpy<2 in c:\\users\\gilso\\anaconda3\\lib\\site-packages (from mlflow) (1.22.4)\n",
            "Requirement already satisfied: scikit-learn<2 in c:\\users\\gilso\\anaconda3\\lib\\site-packages (from mlflow) (1.0.2)\n",
            "Requirement already satisfied: waitress<3 in c:\\users\\gilso\\anaconda3\\lib\\site-packages (from mlflow) (2.1.2)\n",
            "Requirement already satisfied: typing-extensions>=4 in c:\\users\\gilso\\anaconda3\\lib\\site-packages (from alembic!=1.10.0,<2->mlflow) (4.1.1)\n",
            "Requirement already satisfied: Mako in c:\\users\\gilso\\anaconda3\\lib\\site-packages (from alembic!=1.10.0,<2->mlflow) (1.3.0)\n",
            "Requirement already satisfied: colorama in c:\\users\\gilso\\anaconda3\\lib\\site-packages (from click<9,>=7.0->mlflow) (0.4.4)\n",
            "Requirement already satisfied: urllib3<3,>=1.26.7 in c:\\users\\gilso\\anaconda3\\lib\\site-packages (from databricks-cli<1,>=0.8.7->mlflow) (1.26.9)\n",
            "Requirement already satisfied: oauthlib>=3.1.0 in c:\\users\\gilso\\anaconda3\\lib\\site-packages (from databricks-cli<1,>=0.8.7->mlflow) (3.2.2)\n",
            "Requirement already satisfied: pyjwt>=1.7.0 in c:\\users\\gilso\\anaconda3\\lib\\site-packages (from databricks-cli<1,>=0.8.7->mlflow) (2.1.0)\n",
            "Requirement already satisfied: tabulate>=0.7.7 in c:\\users\\gilso\\anaconda3\\lib\\site-packages (from databricks-cli<1,>=0.8.7->mlflow) (0.8.9)\n",
            "Requirement already satisfied: six>=1.10.0 in c:\\users\\gilso\\anaconda3\\lib\\site-packages (from databricks-cli<1,>=0.8.7->mlflow) (1.16.0)\n",
            "Requirement already satisfied: pywin32>=304 in c:\\users\\gilso\\anaconda3\\lib\\site-packages (from docker<7,>=4.0.0->mlflow) (306)\n",
            "Requirement already satisfied: websocket-client>=0.32.0 in c:\\users\\gilso\\anaconda3\\lib\\site-packages (from docker<7,>=4.0.0->mlflow) (0.58.0)\n",
            "Requirement already satisfied: itsdangerous>=0.24 in c:\\users\\gilso\\anaconda3\\lib\\site-packages (from Flask<4->mlflow) (2.0.1)\n",
            "Requirement already satisfied: Werkzeug>=0.15 in c:\\users\\gilso\\anaconda3\\lib\\site-packages (from Flask<4->mlflow) (2.0.3)\n",
            "Requirement already satisfied: gitdb<5,>=4.0.1 in c:\\users\\gilso\\anaconda3\\lib\\site-packages (from gitpython<4,>=2.1.0->mlflow) (4.0.11)\n",
            "Requirement already satisfied: smmap<6,>=3.0.1 in c:\\users\\gilso\\anaconda3\\lib\\site-packages (from gitdb<5,>=4.0.1->gitpython<4,>=2.1.0->mlflow) (5.0.1)\n",
            "Requirement already satisfied: zipp>=0.5 in c:\\users\\gilso\\anaconda3\\lib\\site-packages (from importlib-metadata!=4.7.0,<7,>=3.7.0->mlflow) (3.7.0)\n",
            "Requirement already satisfied: MarkupSafe>=2.0 in c:\\users\\gilso\\anaconda3\\lib\\site-packages (from Jinja2<4,>=3.0->mlflow) (2.0.1)\n",
            "Requirement already satisfied: python-dateutil>=2.7 in c:\\users\\gilso\\anaconda3\\lib\\site-packages (from matplotlib<4->mlflow) (2.8.2)\n",
            "Requirement already satisfied: pyparsing>=2.2.1 in c:\\users\\gilso\\anaconda3\\lib\\site-packages (from matplotlib<4->mlflow) (3.0.4)\n",
            "Requirement already satisfied: kiwisolver>=1.0.1 in c:\\users\\gilso\\anaconda3\\lib\\site-packages (from matplotlib<4->mlflow) (1.3.2)\n",
            "Requirement already satisfied: cycler>=0.10 in c:\\users\\gilso\\anaconda3\\lib\\site-packages (from matplotlib<4->mlflow) (0.11.0)\n",
            "Requirement already satisfied: fonttools>=4.22.0 in c:\\users\\gilso\\anaconda3\\lib\\site-packages (from matplotlib<4->mlflow) (4.25.0)\n",
            "Requirement already satisfied: pillow>=6.2.0 in c:\\users\\gilso\\anaconda3\\lib\\site-packages (from matplotlib<4->mlflow) (9.0.1)\n",
            "Requirement already satisfied: tzdata>=2022.1 in c:\\users\\gilso\\anaconda3\\lib\\site-packages (from pandas<3->mlflow) (2023.3)\n",
            "Requirement already satisfied: certifi>=2017.4.17 in c:\\users\\gilso\\anaconda3\\lib\\site-packages (from requests<3,>=2.17.3->mlflow) (2021.10.8)\n",
            "Requirement already satisfied: charset-normalizer~=2.0.0 in c:\\users\\gilso\\anaconda3\\lib\\site-packages (from requests<3,>=2.17.3->mlflow) (2.0.4)\n",
            "Requirement already satisfied: idna<4,>=2.5 in c:\\users\\gilso\\anaconda3\\lib\\site-packages (from requests<3,>=2.17.3->mlflow) (3.3)\n",
            "Requirement already satisfied: joblib>=0.11 in c:\\users\\gilso\\anaconda3\\lib\\site-packages (from scikit-learn<2->mlflow) (1.1.0)\n",
            "Requirement already satisfied: threadpoolctl>=2.0.0 in c:\\users\\gilso\\anaconda3\\lib\\site-packages (from scikit-learn<2->mlflow) (2.2.0)\n",
            "Requirement already satisfied: greenlet!=0.4.17 in c:\\users\\gilso\\anaconda3\\lib\\site-packages (from sqlalchemy<3,>=1.4.0->mlflow) (1.1.1)\n",
            "Note: you may need to restart the kernel to use updated packages.\n"
          ]
        }
      ],
      "source": [
        "pip install mlflow"
      ]
    },
    {
      "cell_type": "code",
      "execution_count": 3,
      "metadata": {},
      "outputs": [],
      "source": [
        "# Temos que especificar onde estão os nossos modelos registrados\n",
        "# Como vimos no notebook anterior eles vão estar guardados numa db\n",
        "mlflow.set_tracking_uri(\"sqlite:///../../mlruns/mlflow.db\")"
      ]
    },
    {
      "cell_type": "code",
      "execution_count": 4,
      "metadata": {},
      "outputs": [],
      "source": [
        "# Fazer load da versão 1 do modelo \"random_forest\" que registamos no notebook anterior\n",
        "model_name = \"random_forest\"\n",
        "model_version = 1\n",
        "\n",
        "model = mlflow.pyfunc.load_model(\n",
        "    model_uri=f\"models:/{model_name}/{model_version}\"\n",
        ")"
      ]
    },
    {
      "cell_type": "markdown",
      "metadata": {},
      "source": [
        "## Vamos utilizar o modelo lido para fazer previsões"
      ]
    },
    {
      "cell_type": "markdown",
      "metadata": {},
      "source": [
        "Referências:\n",
        "* [Inference API](https://www.mlflow.org/docs/latest/python_api/mlflow.pyfunc.html#inference-api)\n",
        "    * [predict](https://www.mlflow.org/docs/latest/python_api/mlflow.pyfunc.html#mlflow.pyfunc.PyFuncModel.predict)"
      ]
    },
    {
      "cell_type": "code",
      "execution_count": 5,
      "metadata": {},
      "outputs": [],
      "source": [
        "# Ler os dados\n",
        "data_path = '../../data/diabetes_test.csv'\n",
        "df = pd.read_csv(data_path)"
      ]
    },
    {
      "cell_type": "markdown",
      "metadata": {},
      "source": [
        "Vamos usar uma linha do nosso dataset como input ao nosso modelo, apenas para testar que de facto ele consegue devolver previsões"
      ]
    },
    {
      "cell_type": "code",
      "execution_count": 6,
      "metadata": {},
      "outputs": [
        {
          "data": {
            "text/html": [
              "<div>\n",
              "<style scoped>\n",
              "    .dataframe tbody tr th:only-of-type {\n",
              "        vertical-align: middle;\n",
              "    }\n",
              "\n",
              "    .dataframe tbody tr th {\n",
              "        vertical-align: top;\n",
              "    }\n",
              "\n",
              "    .dataframe thead th {\n",
              "        text-align: right;\n",
              "    }\n",
              "</style>\n",
              "<table border=\"1\" class=\"dataframe\">\n",
              "  <thead>\n",
              "    <tr style=\"text-align: right;\">\n",
              "      <th></th>\n",
              "      <th>Pregnancies</th>\n",
              "      <th>Glucose</th>\n",
              "      <th>BloodPressure</th>\n",
              "      <th>SkinThickness</th>\n",
              "      <th>Insulin</th>\n",
              "      <th>BMI</th>\n",
              "      <th>DiabetesPedigreeFunction</th>\n",
              "      <th>Age</th>\n",
              "      <th>Outcome</th>\n",
              "    </tr>\n",
              "  </thead>\n",
              "  <tbody>\n",
              "    <tr>\n",
              "      <th>111</th>\n",
              "      <td>11</td>\n",
              "      <td>143</td>\n",
              "      <td>94</td>\n",
              "      <td>33</td>\n",
              "      <td>146</td>\n",
              "      <td>36.6</td>\n",
              "      <td>0.254</td>\n",
              "      <td>51</td>\n",
              "      <td>1</td>\n",
              "    </tr>\n",
              "  </tbody>\n",
              "</table>\n",
              "</div>"
            ],
            "text/plain": [
              "     Pregnancies  Glucose  BloodPressure  SkinThickness  Insulin   BMI  \\\n",
              "111           11      143             94             33      146  36.6   \n",
              "\n",
              "     DiabetesPedigreeFunction  Age  Outcome  \n",
              "111                     0.254   51        1  "
            ]
          },
          "execution_count": 6,
          "metadata": {},
          "output_type": "execute_result"
        }
      ],
      "source": [
        "# vamos usar uma linha aleatória do nosso dataframe apenas para ter um exemplo de input\n",
        "df.sample(1)"
      ]
    },
    {
      "cell_type": "code",
      "execution_count": 7,
      "metadata": {},
      "outputs": [],
      "source": [
        "# retiramos o target (Outcome) dos dados, para termos o input que o nosso modelo está à espera \n",
        "input_data = df.loc[df.Outcome == 1].sample(1).drop(\"Outcome\", axis=1)"
      ]
    },
    {
      "cell_type": "code",
      "execution_count": 8,
      "metadata": {},
      "outputs": [
        {
          "name": "stderr",
          "output_type": "stream",
          "text": [
            "c:\\Users\\gilso\\anaconda3\\lib\\site-packages\\sklearn\\utils\\validation.py:623: FutureWarning: is_sparse is deprecated and will be removed in a future version. Check `isinstance(dtype, pd.SparseDtype)` instead.\n",
            "  if not hasattr(array, \"sparse\") and array.dtypes.apply(is_sparse).any():\n"
          ]
        },
        {
          "data": {
            "text/plain": [
              "array([1], dtype=int64)"
            ]
          },
          "execution_count": 8,
          "metadata": {},
          "output_type": "execute_result"
        }
      ],
      "source": [
        "model.predict(data=input_data)"
      ]
    },
    {
      "cell_type": "code",
      "execution_count": 9,
      "metadata": {},
      "outputs": [],
      "source": [
        "# retiramos o target (Outcome) dos dados, para termos o input que o nosso modelo está à espera \n",
        "input_data = df.loc[df.Outcome == 0].sample(1).drop(\"Outcome\", axis=1)"
      ]
    },
    {
      "cell_type": "code",
      "execution_count": 10,
      "metadata": {},
      "outputs": [
        {
          "name": "stderr",
          "output_type": "stream",
          "text": [
            "c:\\Users\\gilso\\anaconda3\\lib\\site-packages\\sklearn\\utils\\validation.py:623: FutureWarning: is_sparse is deprecated and will be removed in a future version. Check `isinstance(dtype, pd.SparseDtype)` instead.\n",
            "  if not hasattr(array, \"sparse\") and array.dtypes.apply(is_sparse).any():\n"
          ]
        },
        {
          "data": {
            "text/plain": [
              "array([1], dtype=int64)"
            ]
          },
          "execution_count": 10,
          "metadata": {},
          "output_type": "execute_result"
        }
      ],
      "source": [
        "# chamamos o predict do modelo e vemos que temos a sua previsão\n",
        "model.predict(data=input_data)"
      ]
    },
    {
      "cell_type": "code",
      "execution_count": 11,
      "metadata": {},
      "outputs": [],
      "source": [
        "# retiramos o target (Outcome) dos dados, para termos o input que o nosso modelo está à espera \n",
        "input_data = df.loc[df.Outcome == 0].sample(1).drop(\"Outcome\", axis=1)"
      ]
    },
    {
      "cell_type": "code",
      "execution_count": 12,
      "metadata": {},
      "outputs": [
        {
          "name": "stderr",
          "output_type": "stream",
          "text": [
            "c:\\Users\\gilso\\anaconda3\\lib\\site-packages\\sklearn\\utils\\validation.py:623: FutureWarning: is_sparse is deprecated and will be removed in a future version. Check `isinstance(dtype, pd.SparseDtype)` instead.\n",
            "  if not hasattr(array, \"sparse\") and array.dtypes.apply(is_sparse).any():\n"
          ]
        },
        {
          "data": {
            "text/plain": [
              "array([1], dtype=int64)"
            ]
          },
          "execution_count": 12,
          "metadata": {},
          "output_type": "execute_result"
        }
      ],
      "source": [
        "# chamamos o predict do modelo e vemos que temos a sua previsão\n",
        "model.predict(data=input_data)"
      ]
    }
  ],
  "metadata": {
    "colab": {
      "collapsed_sections": [],
      "name": "09_random_forests.ipynb",
      "provenance": []
    },
    "kernelspec": {
      "display_name": "Python 3.8.13 ('rumos-class')",
      "language": "python",
      "name": "python3"
    },
    "language_info": {
      "codemirror_mode": {
        "name": "ipython",
        "version": 3
      },
      "file_extension": ".py",
      "mimetype": "text/x-python",
      "name": "python",
      "nbconvert_exporter": "python",
      "pygments_lexer": "ipython3",
      "version": "3.9.12"
    },
    "vscode": {
      "interpreter": {
        "hash": "6192e3e3483d88f8b6155fddd4a88547534822fa989f7217ef8015fcc710e196"
      }
    }
  },
  "nbformat": 4,
  "nbformat_minor": 0
}

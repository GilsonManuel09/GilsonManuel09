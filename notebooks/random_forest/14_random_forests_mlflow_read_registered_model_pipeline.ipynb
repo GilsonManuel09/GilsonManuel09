{
  "cells": [
    {
      "cell_type": "markdown",
      "metadata": {},
      "source": [
        "# Vamos utilizar o mlflow para ler a nossa pipeline (v2 do modelo registado)"
      ]
    },
    {
      "cell_type": "markdown",
      "metadata": {},
      "source": [
        "Neste notebook iremos utilizar o modelo que registamos no notebook anterior para fazer previsões.\n",
        "\n",
        "Referências:\n",
        "* [Model Registry API](https://www.mlflow.org/docs/latest/model-registry.html#fetching-an-mlflow-model-from-the-model-registry)\n",
        "    * [Ir buscar um modelo ao Model Registry](https://www.mlflow.org/docs/latest/model-registry.html#fetching-an-mlflow-model-from-the-model-registry)\n",
        "* [mlflow python model interface](https://www.mlflow.org/docs/latest/python_api/mlflow.pyfunc.html#module-mlflow.pyfunc)\n",
        "    * [mlflow.pyfunc.load_model()](https://www.mlflow.org/docs/latest/python_api/mlflow.pyfunc.html#mlflow.pyfunc.load_model)"
      ]
    },
    {
      "cell_type": "code",
      "execution_count": null,
      "metadata": {},
      "outputs": [],
      "source": [
        "import mlflow\n",
        "import pandas as pd"
      ]
    },
    {
      "cell_type": "code",
      "execution_count": null,
      "metadata": {},
      "outputs": [],
      "source": [
        "# Temos que especificar onde estão os nossos modelos registrados\n",
        "# Como vimos no notebook anterior eles vão estar guardados numa db\n",
        "mlflow.set_tracking_uri(\"sqlite:///../../mlruns/mlflow.db\")"
      ]
    },
    {
      "cell_type": "code",
      "execution_count": null,
      "metadata": {},
      "outputs": [],
      "source": [
        "# Fazer load da versão 2 do modelo \"random_forest\" que registamos no notebook anterior\n",
        "model_name = \"random_forest\"\n",
        "model_version = 2\n",
        "\n",
        "model = mlflow.pyfunc.load_model(\n",
        "    model_uri=f\"models:/{model_name}/{model_version}\"\n",
        ")"
      ]
    },
    {
      "cell_type": "markdown",
      "metadata": {},
      "source": [
        "## Vamos utilizar o modelo lido para fazer previsões"
      ]
    },
    {
      "cell_type": "markdown",
      "metadata": {},
      "source": [
        "Referências:\n",
        "* [Inference API](https://www.mlflow.org/docs/latest/python_api/mlflow.pyfunc.html#inference-api)\n",
        "    * [predict](https://www.mlflow.org/docs/latest/python_api/mlflow.pyfunc.html#mlflow.pyfunc.PyFuncModel.predict)"
      ]
    },
    {
      "cell_type": "code",
      "execution_count": null,
      "metadata": {},
      "outputs": [],
      "source": [
        "# Ler os dados\n",
        "data_path = '../../data/diabetes_test.csv'\n",
        "df = pd.read_csv(data_path)"
      ]
    },
    {
      "cell_type": "markdown",
      "metadata": {},
      "source": [
        "Vamos usar uma linha do nosso dataset como input ao nosso modelo, apenas para testar que de facto ele consegue devolver previsões"
      ]
    },
    {
      "cell_type": "code",
      "execution_count": null,
      "metadata": {},
      "outputs": [],
      "source": [
        "# vamos usar uma linha aleatória do nosso dataframe apenas para ter um exemplo de input\n",
        "df.sample(1)"
      ]
    },
    {
      "cell_type": "code",
      "execution_count": null,
      "metadata": {},
      "outputs": [],
      "source": [
        "# retiramos o target (Outcome) dos dados, para termos o input que o nosso modelo está à espera \n",
        "input_data = df.loc[df.Outcome == 1].sample(1).drop(\"Outcome\", axis=1)"
      ]
    },
    {
      "cell_type": "code",
      "execution_count": null,
      "metadata": {},
      "outputs": [],
      "source": [
        "model.predict(data=input_data)"
      ]
    },
    {
      "cell_type": "code",
      "execution_count": null,
      "metadata": {},
      "outputs": [],
      "source": [
        "# retiramos o target (Outcome) dos dados, para termos o input que o nosso modelo está à espera \n",
        "input_data = df.loc[df.Outcome == 0].sample(1).drop(\"Outcome\", axis=1)"
      ]
    },
    {
      "cell_type": "code",
      "execution_count": null,
      "metadata": {},
      "outputs": [],
      "source": [
        "# chamamos o predict do modelo e vemos que temos a sua previsão\n",
        "model.predict(data=input_data)"
      ]
    }
  ],
  "metadata": {
    "colab": {
      "collapsed_sections": [],
      "name": "09_random_forests.ipynb",
      "provenance": []
    },
    "kernelspec": {
      "display_name": "Python 3.8.13 ('rumos-class-oml')",
      "language": "python",
      "name": "python3"
    },
    "language_info": {
      "codemirror_mode": {
        "name": "ipython",
        "version": 3
      },
      "file_extension": ".py",
      "mimetype": "text/x-python",
      "name": "python",
      "nbconvert_exporter": "python",
      "pygments_lexer": "ipython3",
      "version": "3.10.13"
    },
    "vscode": {
      "interpreter": {
        "hash": "5a97069f8d9d8e941bb8a3a542a648f8b4bcb13721f1771979b015a903dcf22b"
      }
    }
  },
  "nbformat": 4,
  "nbformat_minor": 0
}

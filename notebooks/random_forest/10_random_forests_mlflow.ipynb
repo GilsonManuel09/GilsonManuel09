{
  "cells": [
    {
      "cell_type": "markdown",
      "metadata": {},
      "source": [
        "# Vamos utilizar o mlflow para dar track à experiência deste notebook"
      ]
    },
    {
      "cell_type": "markdown",
      "metadata": {},
      "source": [
        "A 1º coisa que têm que fazer é efetivamente começar uma **experiência**.\n",
        "\n",
        "Cada experiência vai ter um conjunto de **runs** associadas a ela.\n",
        "\n",
        "Devem agrupar na mesma experiência todas as runs que querem comparar.\n",
        "\n",
        "Mesmo utilizando modelos diferentes, caso sejam modelos que corram nos mesmo dados então será util de os comparar pelo que eles devem viver na mesma experiência.\n",
        "\n",
        "Também quando têm mais dados para treinar, para o mesmo problema, é útil utilizar a mesma experiência para comparar com os resultados anteriores.\n",
        "\n",
        "Referências:\n",
        "* [mlflow concepts](https://www.mlflow.org/docs/2.7.1/concepts.html)\n",
        "* [mlflow tracking overview](https://docs.databricks.com/applications/mlflow/tracking.html)"
      ]
    },
    {
      "cell_type": "code",
      "execution_count": 1,
      "metadata": {},
      "outputs": [],
      "source": [
        "import mlflow"
      ]
    },
    {
      "cell_type": "code",
      "execution_count": 2,
      "metadata": {},
      "outputs": [],
      "source": [
        "import pandas as pd\n",
        "from sklearn.preprocessing import StandardScaler\n",
        "from sklearn.metrics import accuracy_score\n",
        "from sklearn.model_selection import GridSearchCV\n",
        "from sklearn.ensemble import RandomForestClassifier"
      ]
    },
    {
      "cell_type": "code",
      "execution_count": 3,
      "metadata": {},
      "outputs": [],
      "source": [
        "ROOT_PATH = '../../data/'\n",
        "SEED = 42\n",
        "TARGET_COL = \"Outcome\""
      ]
    },
    {
      "cell_type": "markdown",
      "metadata": {},
      "source": [
        "## Mudar a diretoria onde as experiências são guardadas"
      ]
    },
    {
      "cell_type": "markdown",
      "metadata": {},
      "source": [
        "A 1a coisa que vamos fazer é mudar onde as experiências vão ser guardadas.\n",
        "\n",
        "Por defeito o mlflow vai guardar as experiências em `./mlruns` mas nós queremos que as experiências fiquem guardadas na root do projeto e não dentro da diretoria dos notebooks e portanto vamos alterar o `tracking_uri` para a pasta `../../mlruns/local`. \n",
        "\n",
        "**Nota:** Vamos colocar em `../../mlruns/local` em vez de `../../mlruns` porque vamos utilizar no próximo notebook um `tracking_uri` diferente que irá guardar os artifacts em `../../mlruns` pelo que se também colocarmos o tracking_uri deste notebook para essa pasta vão existir conflictos na leitura das experiências devido a estes diferentes tracking URIs possuirem formatos diferentes.\n",
        "\n",
        "Referências:\n",
        "* [mlflow tracking concepts](https://mlflow.org/docs/2.7.1/tracking.html#concepts)\n",
        "* [mlflow.set_tracking_uri](https://mlflow.org/docs/2.7.1/python_api/mlflow.html#mlflow.set_tracking_uri)"
      ]
    },
    {
      "cell_type": "code",
      "execution_count": 4,
      "metadata": {},
      "outputs": [],
      "source": [
        "mlflow.set_tracking_uri(\"../../mlruns/local\")"
      ]
    },
    {
      "cell_type": "markdown",
      "metadata": {},
      "source": [
        "## Criar ou reutilizar uma experiência"
      ]
    },
    {
      "cell_type": "markdown",
      "metadata": {},
      "source": [
        "Tendo especificado onde queremos guardar as coisas é altura de criar a experiência !\n",
        "\n",
        "Para tal vamos utilizar o `mlflow.create_experiment` e dar lhe um nome, neste caso será \"Diabetes Prediction Experiment\".\n",
        "\n",
        "Os nomes das experiências são únicos, pelo que se tentarem correr este comando uma segunda vez ele vai falhar por esse motivo\n",
        "\n",
        "Em alturas em que temos já a experiência criada (e por isso não vamos usar o comando acima de create) e só a queremos utilizar essa experiência, então basta nos utilizar o comando `mlflow.set_experiment` e dar lhe o nome da experiência que queremos usar. O mlflow automaticamente vai assumir essa experiência para os seguintes comandos.\n",
        "\n",
        "**Nota:** Este `mlflow.set_experiment` é na realidade um \"set or create\" já que se a experiência não existir ele vai cria la\n",
        "\n",
        "Referências:\n",
        "* [mlflow.create_experiment()](https://www.mlflow.org/docs/2.7.1/python_api/mlflow.html#mlflow.create_experiment)\n",
        "* [mlflow.set_experiment()](https://www.mlflow.org/docs/2.7.1/python_api/mlflow.html#mlflow.set_experiment)"
      ]
    },
    {
      "cell_type": "code",
      "execution_count": 5,
      "metadata": {},
      "outputs": [
        {
          "name": "stderr",
          "output_type": "stream",
          "text": [
            "2023/11/27 17:35:56 INFO mlflow.tracking.fluent: Experiment with name 'Diabetes Prediction Experiment' does not exist. Creating a new experiment.\n"
          ]
        },
        {
          "data": {
            "text/plain": [
              "<Experiment: artifact_location=('file:///c:/Users/gilso/OneDrive/Área de '\n",
              " 'Trabalho/rumos/notebooks/random_forest/../../mlruns/local/234761152711065781'), creation_time=1701106556496, experiment_id='234761152711065781', last_update_time=1701106556496, lifecycle_stage='active', name='Diabetes Prediction Experiment', tags={}>"
            ]
          },
          "execution_count": 5,
          "metadata": {},
          "output_type": "execute_result"
        }
      ],
      "source": [
        "from pathlib import Path\n",
        "\n",
        "Path(\"../../mlruns/local\").mkdir(parents=True, exist_ok=True)\n",
        "mlflow.set_experiment(experiment_name=\"Diabetes Prediction Experiment\")"
      ]
    },
    {
      "cell_type": "markdown",
      "metadata": {},
      "source": [
        "## Criar os datasets"
      ]
    },
    {
      "cell_type": "markdown",
      "metadata": {},
      "source": [
        "A data api do mlflow ajuda a associar a uma experiência os datasets utilizados nas diferentes runs dessa experiência. Por exemplo, para se poder comparar diferentes modelos (runs) é necessário que o conjunto de teste seja o mesmo entre as diferentes runs, e a data api do mlflow permite associar às diferentes runs os datasets associados a uma experiência.\n",
        "\n",
        "É possivel construir um Dataset de mlflow a partir de um dataframe de pandas utilizando o `mlflow.data.from_pandas()` (ver documentação associada nas referências).\n",
        "\n",
        "Referências:\n",
        "* [mlflow data api](https://mlflow.org/docs/2.7.1/python_api/mlflow.data.html)\n",
        "    * [mlflow.data.from_pandas()](https://mlflow.org/docs/2.7.1/python_api/mlflow.data.html#mlflow.data.from_pandas)"
      ]
    },
    {
      "cell_type": "code",
      "execution_count": 6,
      "metadata": {},
      "outputs": [],
      "source": [
        "train_path = ROOT_PATH + 'diabetes_train.csv'\n",
        "test_path = ROOT_PATH + 'diabetes_test.csv'\n",
        "\n",
        "train_set = pd.read_csv(train_path)\n",
        "test_set = pd.read_csv(test_path)"
      ]
    },
    {
      "cell_type": "code",
      "execution_count": 7,
      "metadata": {},
      "outputs": [
        {
          "name": "stderr",
          "output_type": "stream",
          "text": [
            "c:\\Users\\gilso\\anaconda3\\lib\\site-packages\\mlflow\\data\\dataset_source_registry.py:143: UserWarning: The specified dataset source can be interpreted in multiple ways: LocalArtifactDatasetSource, LocalArtifactDatasetSource. MLflow will assume that this is a LocalArtifactDatasetSource source.\n",
            "  return _dataset_source_registry.resolve(\n",
            "c:\\Users\\gilso\\anaconda3\\lib\\site-packages\\mlflow\\data\\digest_utils.py:26: FutureWarning: DataFrame.applymap has been deprecated. Use DataFrame.map instead.\n",
            "  string_columns = trimmed_df.columns[(df.applymap(type) == str).all(0)]\n",
            "c:\\Users\\gilso\\anaconda3\\lib\\site-packages\\mlflow\\data\\dataset_source_registry.py:143: UserWarning: The specified dataset source can be interpreted in multiple ways: LocalArtifactDatasetSource, LocalArtifactDatasetSource. MLflow will assume that this is a LocalArtifactDatasetSource source.\n",
            "  return _dataset_source_registry.resolve(\n",
            "c:\\Users\\gilso\\anaconda3\\lib\\site-packages\\mlflow\\data\\digest_utils.py:26: FutureWarning: DataFrame.applymap has been deprecated. Use DataFrame.map instead.\n",
            "  string_columns = trimmed_df.columns[(df.applymap(type) == str).all(0)]\n"
          ]
        }
      ],
      "source": [
        "train_dataset = mlflow.data.from_pandas(train_set, source=train_path, targets=TARGET_COL, name=\"Diabetes Train Dataset\")\n",
        "test_dataset = mlflow.data.from_pandas(test_set, source=test_path, targets=TARGET_COL, name=\"Diabetes Test Dataset\")"
      ]
    },
    {
      "cell_type": "markdown",
      "metadata": {},
      "source": [
        "## Criar uma run"
      ]
    },
    {
      "cell_type": "markdown",
      "metadata": {},
      "source": [
        "Para criarem uma nova run na vossa experiment basta utilizarem o comando `mlflow.start_run`. Podem dar um nome à run, como vai ser demonstrado em baixo.\n",
        "\n",
        "**Nota:** Desde o momento em que criam esta run até ao momento em que chamam o `mlflow.end_run` esta run vai estar ativa. O que significa que não vão conseguir chamar novamente o comando de `mlflow.start_run` até fecharem primeiro a run que está ativa chamando o `mlflow.end_run` \n",
        "\n",
        "Referências:\n",
        "* [mlflow.start_run()](https://www.mlflow.org/docs/2.7.1/python_api/mlflow.html#mlflow.start_run)\n",
        "* [mlflow.end_run()](https://www.mlflow.org/docs/2.7.1/python_api/mlflow.html#mlflow.end_run)"
      ]
    },
    {
      "cell_type": "code",
      "execution_count": 8,
      "metadata": {},
      "outputs": [],
      "source": [
        "run = mlflow.start_run(run_name=\"Random Forests Run\")"
      ]
    },
    {
      "cell_type": "markdown",
      "metadata": {},
      "source": [
        "O `start_run` vai vos retornar um objecto de `Run` onde podem consultar os metadados (como a run_id, a experiment_id, etc) associados à run fazendo `run.info`"
      ]
    },
    {
      "cell_type": "code",
      "execution_count": 9,
      "metadata": {},
      "outputs": [
        {
          "data": {
            "text/plain": [
              "<RunInfo: artifact_uri=('file:///c:/Users/gilso/OneDrive/Área de '\n",
              " 'Trabalho/rumos/notebooks/random_forest/../../mlruns/local/234761152711065781/86d08183e82145709d77a3bdaad3cfde/artifacts'), end_time=None, experiment_id='234761152711065781', lifecycle_stage='active', run_id='86d08183e82145709d77a3bdaad3cfde', run_name='Random Forests Run', run_uuid='86d08183e82145709d77a3bdaad3cfde', start_time=1701106556762, status='RUNNING', user_id='gilso'>"
            ]
          },
          "execution_count": 9,
          "metadata": {},
          "output_type": "execute_result"
        }
      ],
      "source": [
        "run.info"
      ]
    },
    {
      "cell_type": "code",
      "execution_count": 10,
      "metadata": {},
      "outputs": [],
      "source": [
        "RUN_ID = run.info.run_uuid"
      ]
    },
    {
      "cell_type": "markdown",
      "metadata": {},
      "source": [
        "Também podem consultar os dados (métricas, parametros e tags) guardados na run fazendo `run.data`.\n",
        "\n",
        "Como esta run acabou de ser criada ainda não terá métricas nem parametros associados a ela."
      ]
    },
    {
      "cell_type": "code",
      "execution_count": 11,
      "metadata": {},
      "outputs": [
        {
          "data": {
            "text/plain": [
              "'86d08183e82145709d77a3bdaad3cfde'"
            ]
          },
          "execution_count": 11,
          "metadata": {},
          "output_type": "execute_result"
        }
      ],
      "source": [
        "RUN_ID"
      ]
    },
    {
      "cell_type": "code",
      "execution_count": 12,
      "metadata": {},
      "outputs": [
        {
          "data": {
            "text/plain": [
              "<RunData: metrics={}, params={}, tags={'mlflow.runName': 'Random Forests Run',\n",
              " 'mlflow.source.name': 'c:\\\\Users\\\\gilso\\\\anaconda3\\\\lib\\\\site-packages\\\\ipykernel_launcher.py',\n",
              " 'mlflow.source.type': 'LOCAL',\n",
              " 'mlflow.user': 'gilso'}>"
            ]
          },
          "execution_count": 12,
          "metadata": {},
          "output_type": "execute_result"
        }
      ],
      "source": [
        "run.data"
      ]
    },
    {
      "cell_type": "markdown",
      "metadata": {},
      "source": [
        "## Guardar datasets, artefactos, métricas e parametros da run"
      ]
    },
    {
      "cell_type": "markdown",
      "metadata": {},
      "source": [
        "Cada run que começam vai ter informação valiosa de se guardar, para depois ser possível ver o que se passou na run e qual foi a perfomance da mesma. Para guardar estes dados o mlflow tem 4 tipos diferentes de conceitos fundamentais:\n",
        "\n",
        "* `mflow.log_input`: guarda um dataset da run. Podem guardar o dataset de treino e teste. Para tal têm que tirar partido da data api do mlflow (documentação nas referências).\n",
        "* `mflow.log_artifact`: guarda um artefacto da run. Isto implica guardar dados associados à run. É aqui que podem guardar outros dados (que não o dataset) que estejam guardados em ficheiros e que queiram associar à vossa run.\n",
        "* `mlflow.log_metric`: guarda uma métrica associada à run. É utilizando este comando que irão guardar as métricas associadas à performance do modelo associado a esta run.\n",
        "* `mlfow.log_param`: guarda um parâmetro associado à run. É utilizado para guardar parâmetros que permitam perceber melhor e reproduzir o que se passou na run. Por exemplo, neste caso, a `seed` e o `test_size` são parametros que são essenciais guardarmos já que influenciam totalmente o desfecho desta run\n",
        "\n",
        "Além destes 3 conceitos fundamentais que permitem guardar informação da run, o mlflow também permite guardar **modelos**.\n",
        "Como nesta PGDS lidamos com modelos construidos com o sklearn, vamos usar o `mlflow.sklearn.log_model` para guardar os nossos modelos.\n",
        "\n",
        "Referências:\n",
        "* [mlflow logging data to runs](https://www.mlflow.org/docs/2.7.1/tracking.html#logging-data-to-runs)\n",
        "    * [mlflow.log_input()](https://mlflow.org/docs/2.7.1/python_api/mlflow.html#mlflow.log_input)\n",
        "    * [mflow.log_artifact()](https://www.mlflow.org/docs/2.7.1/python_api/mlflow.html#mlflow.log_artifact)\n",
        "    * [mflow.log_artifacts()](https://www.mlflow.org/docs/2.7.1/python_api/mlflow.html#mlflow.log_artifacts)\n",
        "    * [mlflow.log_metric()](https://www.mlflow.org/docs/2.7.1/python_api/mlflow.html#mlflow.log_metric)\n",
        "    * [mlflow.log_metrics()](https://www.mlflow.org/docs/2.7.1/python_api/mlflow.html#mlflow.log_metrics)\n",
        "    * [mlflow.log_param()](https://www.mlflow.org/docs/2.7.1python_api/mlflow.html#mlflow.log_param)\n",
        "    * [mlflow.log_params()](https://www.mlflow.org/docs/2.7.1python_api/mlflow.html#mlflow.log_params)\n",
        "    * [mlflow.log_image()](https://www.mlflow.org/docs/2.7.1/python_api/mlflow.html#mlflow.log_image)\n",
        "* [mflow model api](https://www.mlflow.org/docs/2.7.1/models.html#model-api)\n",
        "    * [mlflow.sklearn.log_model()](https://www.mlflow.org/docs/2.7.1/python_api/mlflow.sklearn.html#mlflow.sklearn.log_model)"
      ]
    },
    {
      "cell_type": "code",
      "execution_count": 13,
      "metadata": {},
      "outputs": [
        {
          "data": {
            "text/plain": [
              "42"
            ]
          },
          "execution_count": 13,
          "metadata": {},
          "output_type": "execute_result"
        }
      ],
      "source": [
        "# Guardamos a seed utilizado como parametro\n",
        "\n",
        "mlflow.log_param(\"seed\", SEED)"
      ]
    },
    {
      "cell_type": "code",
      "execution_count": 14,
      "metadata": {},
      "outputs": [
        {
          "name": "stderr",
          "output_type": "stream",
          "text": [
            "c:\\Users\\gilso\\anaconda3\\lib\\site-packages\\mlflow\\data\\pandas_dataset.py:134: UserWarning: Hint: Inferred schema contains integer column(s). Integer columns in Python cannot represent missing values. If your input data contains missing values at inference time, it will be encoded as floats and will cause a schema enforcement error. The best way to avoid this problem is to infer the model schema based on a realistic data sample (training dataset) that includes missing values. Alternatively, you can declare integer columns as doubles (float64) whenever these columns may have missing values. See `Handling Integers With Missing Values <https://www.mlflow.org/docs/latest/models.html#handling-integers-with-missing-values>`_ for more details.\n",
            "  return _infer_schema(self._df)\n"
          ]
        }
      ],
      "source": [
        "# Neste ponto guardarmos o dataset de treino e de teste associado à run\n",
        "\n",
        "mlflow.log_input(train_dataset, context=\"train\")\n",
        "mlflow.log_input(test_dataset, context=\"test\")"
      ]
    },
    {
      "cell_type": "code",
      "execution_count": 15,
      "metadata": {},
      "outputs": [],
      "source": [
        "X_train = train_set.drop([TARGET_COL], axis = 1)\n",
        "y_train = train_set[TARGET_COL]\n",
        "\n",
        "X_test = test_set.drop([TARGET_COL], axis = 1)\n",
        "y_test = test_set[TARGET_COL]"
      ]
    },
    {
      "cell_type": "code",
      "execution_count": 16,
      "metadata": {},
      "outputs": [
        {
          "data": {
            "text/html": [
              "<div>\n",
              "<style scoped>\n",
              "    .dataframe tbody tr th:only-of-type {\n",
              "        vertical-align: middle;\n",
              "    }\n",
              "\n",
              "    .dataframe tbody tr th {\n",
              "        vertical-align: top;\n",
              "    }\n",
              "\n",
              "    .dataframe thead th {\n",
              "        text-align: right;\n",
              "    }\n",
              "</style>\n",
              "<table border=\"1\" class=\"dataframe\">\n",
              "  <thead>\n",
              "    <tr style=\"text-align: right;\">\n",
              "      <th></th>\n",
              "      <th>Pregnancies</th>\n",
              "      <th>Glucose</th>\n",
              "      <th>BloodPressure</th>\n",
              "      <th>SkinThickness</th>\n",
              "      <th>Insulin</th>\n",
              "      <th>BMI</th>\n",
              "      <th>DiabetesPedigreeFunction</th>\n",
              "      <th>Age</th>\n",
              "    </tr>\n",
              "  </thead>\n",
              "  <tbody>\n",
              "    <tr>\n",
              "      <th>0</th>\n",
              "      <td>3</td>\n",
              "      <td>173</td>\n",
              "      <td>78</td>\n",
              "      <td>39</td>\n",
              "      <td>185</td>\n",
              "      <td>33.8</td>\n",
              "      <td>0.970</td>\n",
              "      <td>31</td>\n",
              "    </tr>\n",
              "    <tr>\n",
              "      <th>1</th>\n",
              "      <td>6</td>\n",
              "      <td>134</td>\n",
              "      <td>80</td>\n",
              "      <td>37</td>\n",
              "      <td>370</td>\n",
              "      <td>46.2</td>\n",
              "      <td>0.238</td>\n",
              "      <td>46</td>\n",
              "    </tr>\n",
              "    <tr>\n",
              "      <th>2</th>\n",
              "      <td>5</td>\n",
              "      <td>104</td>\n",
              "      <td>74</td>\n",
              "      <td>0</td>\n",
              "      <td>0</td>\n",
              "      <td>28.8</td>\n",
              "      <td>0.153</td>\n",
              "      <td>48</td>\n",
              "    </tr>\n",
              "    <tr>\n",
              "      <th>3</th>\n",
              "      <td>1</td>\n",
              "      <td>139</td>\n",
              "      <td>46</td>\n",
              "      <td>19</td>\n",
              "      <td>83</td>\n",
              "      <td>28.7</td>\n",
              "      <td>0.654</td>\n",
              "      <td>22</td>\n",
              "    </tr>\n",
              "    <tr>\n",
              "      <th>4</th>\n",
              "      <td>5</td>\n",
              "      <td>137</td>\n",
              "      <td>108</td>\n",
              "      <td>0</td>\n",
              "      <td>0</td>\n",
              "      <td>48.8</td>\n",
              "      <td>0.227</td>\n",
              "      <td>37</td>\n",
              "    </tr>\n",
              "  </tbody>\n",
              "</table>\n",
              "</div>"
            ],
            "text/plain": [
              "   Pregnancies  Glucose  BloodPressure  SkinThickness  Insulin   BMI  \\\n",
              "0            3      173             78             39      185  33.8   \n",
              "1            6      134             80             37      370  46.2   \n",
              "2            5      104             74              0        0  28.8   \n",
              "3            1      139             46             19       83  28.7   \n",
              "4            5      137            108              0        0  48.8   \n",
              "\n",
              "   DiabetesPedigreeFunction  Age  \n",
              "0                     0.970   31  \n",
              "1                     0.238   46  \n",
              "2                     0.153   48  \n",
              "3                     0.654   22  \n",
              "4                     0.227   37  "
            ]
          },
          "execution_count": 16,
          "metadata": {},
          "output_type": "execute_result"
        }
      ],
      "source": [
        "X_train.head()"
      ]
    },
    {
      "cell_type": "code",
      "execution_count": 17,
      "metadata": {},
      "outputs": [
        {
          "name": "stderr",
          "output_type": "stream",
          "text": [
            "c:\\Users\\gilso\\anaconda3\\lib\\site-packages\\sklearn\\utils\\validation.py:623: FutureWarning: is_sparse is deprecated and will be removed in a future version. Check `isinstance(dtype, pd.SparseDtype)` instead.\n",
            "  if not hasattr(array, \"sparse\") and array.dtypes.apply(is_sparse).any():\n",
            "c:\\Users\\gilso\\anaconda3\\lib\\site-packages\\sklearn\\utils\\validation.py:623: FutureWarning: is_sparse is deprecated and will be removed in a future version. Check `isinstance(dtype, pd.SparseDtype)` instead.\n",
            "  if not hasattr(array, \"sparse\") and array.dtypes.apply(is_sparse).any():\n",
            "c:\\Users\\gilso\\anaconda3\\lib\\site-packages\\sklearn\\utils\\validation.py:623: FutureWarning: is_sparse is deprecated and will be removed in a future version. Check `isinstance(dtype, pd.SparseDtype)` instead.\n",
            "  if not hasattr(array, \"sparse\") and array.dtypes.apply(is_sparse).any():\n"
          ]
        }
      ],
      "source": [
        "scaler = StandardScaler()\n",
        "\n",
        "features_names = X_train.columns\n",
        "\n",
        "X_train[features_names] = scaler.fit_transform(X_train)\n",
        "X_test[features_names] = scaler.transform(X_test)"
      ]
    },
    {
      "cell_type": "code",
      "execution_count": 18,
      "metadata": {},
      "outputs": [
        {
          "name": "stderr",
          "output_type": "stream",
          "text": [
            "2023/11/27 17:35:56 WARNING mlflow.sklearn: Model was missing function: predict. Not logging python_function flavor!\n",
            "c:\\Users\\gilso\\anaconda3\\lib\\site-packages\\_distutils_hack\\__init__.py:30: UserWarning: Setuptools is replacing distutils.\n",
            "  warnings.warn(\"Setuptools is replacing distutils.\")\n"
          ]
        },
        {
          "data": {
            "text/plain": [
              "<mlflow.models.model.ModelInfo at 0x2a6083ffb80>"
            ]
          },
          "execution_count": 18,
          "metadata": {},
          "output_type": "execute_result"
        }
      ],
      "source": [
        "# Vamos querer guardar também o scaler que usamos já que é uma parte vital do pre processamento de dados\n",
        "# e sem ele não conseguimos reproduzir os resultados\n",
        "# Como o StandardScaler é um modelo de sklearn vamos usar o mlflow.sklearn.log_model para o guardar\n",
        "\n",
        "mlflow.sklearn.log_model(scaler, artifact_path=\"std_scaler\")"
      ]
    },
    {
      "cell_type": "code",
      "execution_count": 19,
      "metadata": {},
      "outputs": [
        {
          "data": {
            "text/html": [
              "<div>\n",
              "<style scoped>\n",
              "    .dataframe tbody tr th:only-of-type {\n",
              "        vertical-align: middle;\n",
              "    }\n",
              "\n",
              "    .dataframe tbody tr th {\n",
              "        vertical-align: top;\n",
              "    }\n",
              "\n",
              "    .dataframe thead th {\n",
              "        text-align: right;\n",
              "    }\n",
              "</style>\n",
              "<table border=\"1\" class=\"dataframe\">\n",
              "  <thead>\n",
              "    <tr style=\"text-align: right;\">\n",
              "      <th></th>\n",
              "      <th>Pregnancies</th>\n",
              "      <th>Glucose</th>\n",
              "      <th>BloodPressure</th>\n",
              "      <th>SkinThickness</th>\n",
              "      <th>Insulin</th>\n",
              "      <th>BMI</th>\n",
              "      <th>DiabetesPedigreeFunction</th>\n",
              "      <th>Age</th>\n",
              "    </tr>\n",
              "  </thead>\n",
              "  <tbody>\n",
              "    <tr>\n",
              "      <th>0</th>\n",
              "      <td>-0.275837</td>\n",
              "      <td>1.501997</td>\n",
              "      <td>0.424428</td>\n",
              "      <td>1.171912</td>\n",
              "      <td>0.818842</td>\n",
              "      <td>0.202551</td>\n",
              "      <td>1.388551</td>\n",
              "      <td>-0.256564</td>\n",
              "    </tr>\n",
              "    <tr>\n",
              "      <th>1</th>\n",
              "      <td>0.597861</td>\n",
              "      <td>0.280560</td>\n",
              "      <td>0.525791</td>\n",
              "      <td>1.045640</td>\n",
              "      <td>2.323197</td>\n",
              "      <td>1.783641</td>\n",
              "      <td>-0.696657</td>\n",
              "      <td>0.975594</td>\n",
              "    </tr>\n",
              "    <tr>\n",
              "      <th>2</th>\n",
              "      <td>0.306628</td>\n",
              "      <td>-0.659008</td>\n",
              "      <td>0.221703</td>\n",
              "      <td>-1.290397</td>\n",
              "      <td>-0.685512</td>\n",
              "      <td>-0.434985</td>\n",
              "      <td>-0.938791</td>\n",
              "      <td>1.139881</td>\n",
              "    </tr>\n",
              "    <tr>\n",
              "      <th>3</th>\n",
              "      <td>-0.858303</td>\n",
              "      <td>0.437154</td>\n",
              "      <td>-1.197374</td>\n",
              "      <td>-0.090810</td>\n",
              "      <td>-0.010585</td>\n",
              "      <td>-0.447736</td>\n",
              "      <td>0.488379</td>\n",
              "      <td>-0.995858</td>\n",
              "    </tr>\n",
              "    <tr>\n",
              "      <th>4</th>\n",
              "      <td>0.306628</td>\n",
              "      <td>0.374516</td>\n",
              "      <td>1.944867</td>\n",
              "      <td>-1.290397</td>\n",
              "      <td>-0.685512</td>\n",
              "      <td>2.115160</td>\n",
              "      <td>-0.727992</td>\n",
              "      <td>0.236299</td>\n",
              "    </tr>\n",
              "  </tbody>\n",
              "</table>\n",
              "</div>"
            ],
            "text/plain": [
              "   Pregnancies   Glucose  BloodPressure  SkinThickness   Insulin       BMI  \\\n",
              "0    -0.275837  1.501997       0.424428       1.171912  0.818842  0.202551   \n",
              "1     0.597861  0.280560       0.525791       1.045640  2.323197  1.783641   \n",
              "2     0.306628 -0.659008       0.221703      -1.290397 -0.685512 -0.434985   \n",
              "3    -0.858303  0.437154      -1.197374      -0.090810 -0.010585 -0.447736   \n",
              "4     0.306628  0.374516       1.944867      -1.290397 -0.685512  2.115160   \n",
              "\n",
              "   DiabetesPedigreeFunction       Age  \n",
              "0                  1.388551 -0.256564  \n",
              "1                 -0.696657  0.975594  \n",
              "2                 -0.938791  1.139881  \n",
              "3                  0.488379 -0.995858  \n",
              "4                 -0.727992  0.236299  "
            ]
          },
          "execution_count": 19,
          "metadata": {},
          "output_type": "execute_result"
        }
      ],
      "source": [
        "X_train.head()"
      ]
    },
    {
      "cell_type": "code",
      "execution_count": 20,
      "metadata": {
        "id": "EFzppuepzzKB"
      },
      "outputs": [
        {
          "name": "stderr",
          "output_type": "stream",
          "text": [
            "c:\\Users\\gilso\\anaconda3\\lib\\site-packages\\sklearn\\utils\\validation.py:623: FutureWarning: is_sparse is deprecated and will be removed in a future version. Check `isinstance(dtype, pd.SparseDtype)` instead.\n",
            "  if not hasattr(array, \"sparse\") and array.dtypes.apply(is_sparse).any():\n"
          ]
        }
      ],
      "source": [
        "rf = RandomForestClassifier(random_state = SEED).fit(X_train, y_train)"
      ]
    },
    {
      "cell_type": "code",
      "execution_count": 21,
      "metadata": {},
      "outputs": [
        {
          "data": {
            "text/plain": [
              "<mlflow.models.model.ModelInfo at 0x2a608418250>"
            ]
          },
          "execution_count": 21,
          "metadata": {},
          "output_type": "execute_result"
        }
      ],
      "source": [
        "# Aqui vamos guardar também a nossa Random forest, depois de treinada\n",
        "# De notar que só faz sentido de a guardar depois de esta estar treinada\n",
        "\n",
        "mlflow.sklearn.log_model(rf, artifact_path=\"random_forest\")"
      ]
    },
    {
      "cell_type": "code",
      "execution_count": 22,
      "metadata": {
        "id": "c2O49gd00DEg"
      },
      "outputs": [
        {
          "name": "stderr",
          "output_type": "stream",
          "text": [
            "c:\\Users\\gilso\\anaconda3\\lib\\site-packages\\sklearn\\utils\\validation.py:623: FutureWarning: is_sparse is deprecated and will be removed in a future version. Check `isinstance(dtype, pd.SparseDtype)` instead.\n",
            "  if not hasattr(array, \"sparse\") and array.dtypes.apply(is_sparse).any():\n"
          ]
        }
      ],
      "source": [
        "y_preds = rf.predict(X_test)"
      ]
    },
    {
      "cell_type": "code",
      "execution_count": 23,
      "metadata": {},
      "outputs": [
        {
          "data": {
            "text/plain": [
              "0.7368421052631579"
            ]
          },
          "execution_count": 23,
          "metadata": {},
          "output_type": "execute_result"
        }
      ],
      "source": [
        "accuracy_score(y_test, y_preds)"
      ]
    },
    {
      "cell_type": "code",
      "execution_count": 24,
      "metadata": {},
      "outputs": [
        {
          "data": {
            "text/plain": [
              "Glucose                     0.258462\n",
              "BMI                         0.180059\n",
              "Age                         0.144415\n",
              "DiabetesPedigreeFunction    0.106236\n",
              "BloodPressure               0.090174\n",
              "Pregnancies                 0.078640\n",
              "SkinThickness               0.072315\n",
              "Insulin                     0.069700\n",
              "dtype: float64"
            ]
          },
          "execution_count": 24,
          "metadata": {},
          "output_type": "execute_result"
        }
      ],
      "source": [
        "feature_imp = pd.Series(rf.feature_importances_, index = X_train.columns).sort_values(ascending = False)\n",
        "feature_imp"
      ]
    },
    {
      "cell_type": "code",
      "execution_count": 25,
      "metadata": {},
      "outputs": [],
      "source": [
        "# A feature importance não é essencial de guardar, já que a conseguimos reproduzir, \n",
        "# mas fica mais fácil de ter logo acesso a estes dados se os tivermos guardado como artefactos da run,\n",
        "# assim evita fazer nos correr novamente a run para percebermos a feature importance\n",
        "\n",
        "feature_imp_path = \"../../data/feature_importance.csv\"\n",
        "feature_imp.to_csv(feature_imp_path)\n",
        "mlflow.log_artifact(feature_imp_path)"
      ]
    },
    {
      "cell_type": "code",
      "execution_count": 26,
      "metadata": {
        "id": "6MzRYWGj0WLx"
      },
      "outputs": [
        {
          "name": "stderr",
          "output_type": "stream",
          "text": [
            "c:\\Users\\gilso\\anaconda3\\lib\\site-packages\\sklearn\\utils\\validation.py:623: FutureWarning: is_sparse is deprecated and will be removed in a future version. Check `isinstance(dtype, pd.SparseDtype)` instead.\n",
            "  if not hasattr(array, \"sparse\") and array.dtypes.apply(is_sparse).any():\n",
            "c:\\Users\\gilso\\anaconda3\\lib\\site-packages\\sklearn\\utils\\validation.py:623: FutureWarning: is_sparse is deprecated and will be removed in a future version. Check `isinstance(dtype, pd.SparseDtype)` instead.\n",
            "  if not hasattr(array, \"sparse\") and array.dtypes.apply(is_sparse).any():\n",
            "c:\\Users\\gilso\\anaconda3\\lib\\site-packages\\sklearn\\utils\\validation.py:623: FutureWarning: is_sparse is deprecated and will be removed in a future version. Check `isinstance(dtype, pd.SparseDtype)` instead.\n",
            "  if not hasattr(array, \"sparse\") and array.dtypes.apply(is_sparse).any():\n",
            "c:\\Users\\gilso\\anaconda3\\lib\\site-packages\\sklearn\\utils\\validation.py:623: FutureWarning: is_sparse is deprecated and will be removed in a future version. Check `isinstance(dtype, pd.SparseDtype)` instead.\n",
            "  if not hasattr(array, \"sparse\") and array.dtypes.apply(is_sparse).any():\n",
            "c:\\Users\\gilso\\anaconda3\\lib\\site-packages\\sklearn\\utils\\validation.py:623: FutureWarning: is_sparse is deprecated and will be removed in a future version. Check `isinstance(dtype, pd.SparseDtype)` instead.\n",
            "  if not hasattr(array, \"sparse\") and array.dtypes.apply(is_sparse).any():\n",
            "c:\\Users\\gilso\\anaconda3\\lib\\site-packages\\sklearn\\utils\\validation.py:623: FutureWarning: is_sparse is deprecated and will be removed in a future version. Check `isinstance(dtype, pd.SparseDtype)` instead.\n",
            "  if not hasattr(array, \"sparse\") and array.dtypes.apply(is_sparse).any():\n",
            "c:\\Users\\gilso\\anaconda3\\lib\\site-packages\\sklearn\\utils\\validation.py:623: FutureWarning: is_sparse is deprecated and will be removed in a future version. Check `isinstance(dtype, pd.SparseDtype)` instead.\n",
            "  if not hasattr(array, \"sparse\") and array.dtypes.apply(is_sparse).any():\n",
            "c:\\Users\\gilso\\anaconda3\\lib\\site-packages\\sklearn\\utils\\validation.py:623: FutureWarning: is_sparse is deprecated and will be removed in a future version. Check `isinstance(dtype, pd.SparseDtype)` instead.\n",
            "  if not hasattr(array, \"sparse\") and array.dtypes.apply(is_sparse).any():\n",
            "c:\\Users\\gilso\\anaconda3\\lib\\site-packages\\sklearn\\utils\\validation.py:623: FutureWarning: is_sparse is deprecated and will be removed in a future version. Check `isinstance(dtype, pd.SparseDtype)` instead.\n",
            "  if not hasattr(array, \"sparse\") and array.dtypes.apply(is_sparse).any():\n",
            "c:\\Users\\gilso\\anaconda3\\lib\\site-packages\\sklearn\\utils\\validation.py:623: FutureWarning: is_sparse is deprecated and will be removed in a future version. Check `isinstance(dtype, pd.SparseDtype)` instead.\n",
            "  if not hasattr(array, \"sparse\") and array.dtypes.apply(is_sparse).any():\n",
            "c:\\Users\\gilso\\anaconda3\\lib\\site-packages\\sklearn\\utils\\validation.py:623: FutureWarning: is_sparse is deprecated and will be removed in a future version. Check `isinstance(dtype, pd.SparseDtype)` instead.\n",
            "  if not hasattr(array, \"sparse\") and array.dtypes.apply(is_sparse).any():\n"
          ]
        },
        {
          "name": "stderr",
          "output_type": "stream",
          "text": [
            "c:\\Users\\gilso\\anaconda3\\lib\\site-packages\\sklearn\\utils\\validation.py:623: FutureWarning: is_sparse is deprecated and will be removed in a future version. Check `isinstance(dtype, pd.SparseDtype)` instead.\n",
            "  if not hasattr(array, \"sparse\") and array.dtypes.apply(is_sparse).any():\n",
            "c:\\Users\\gilso\\anaconda3\\lib\\site-packages\\sklearn\\utils\\validation.py:623: FutureWarning: is_sparse is deprecated and will be removed in a future version. Check `isinstance(dtype, pd.SparseDtype)` instead.\n",
            "  if not hasattr(array, \"sparse\") and array.dtypes.apply(is_sparse).any():\n",
            "c:\\Users\\gilso\\anaconda3\\lib\\site-packages\\sklearn\\utils\\validation.py:623: FutureWarning: is_sparse is deprecated and will be removed in a future version. Check `isinstance(dtype, pd.SparseDtype)` instead.\n",
            "  if not hasattr(array, \"sparse\") and array.dtypes.apply(is_sparse).any():\n",
            "c:\\Users\\gilso\\anaconda3\\lib\\site-packages\\sklearn\\utils\\validation.py:623: FutureWarning: is_sparse is deprecated and will be removed in a future version. Check `isinstance(dtype, pd.SparseDtype)` instead.\n",
            "  if not hasattr(array, \"sparse\") and array.dtypes.apply(is_sparse).any():\n",
            "c:\\Users\\gilso\\anaconda3\\lib\\site-packages\\sklearn\\utils\\validation.py:623: FutureWarning: is_sparse is deprecated and will be removed in a future version. Check `isinstance(dtype, pd.SparseDtype)` instead.\n",
            "  if not hasattr(array, \"sparse\") and array.dtypes.apply(is_sparse).any():\n",
            "c:\\Users\\gilso\\anaconda3\\lib\\site-packages\\sklearn\\utils\\validation.py:623: FutureWarning: is_sparse is deprecated and will be removed in a future version. Check `isinstance(dtype, pd.SparseDtype)` instead.\n",
            "  if not hasattr(array, \"sparse\") and array.dtypes.apply(is_sparse).any():\n",
            "c:\\Users\\gilso\\anaconda3\\lib\\site-packages\\sklearn\\utils\\validation.py:623: FutureWarning: is_sparse is deprecated and will be removed in a future version. Check `isinstance(dtype, pd.SparseDtype)` instead.\n",
            "  if not hasattr(array, \"sparse\") and array.dtypes.apply(is_sparse).any():\n",
            "c:\\Users\\gilso\\anaconda3\\lib\\site-packages\\sklearn\\utils\\validation.py:623: FutureWarning: is_sparse is deprecated and will be removed in a future version. Check `isinstance(dtype, pd.SparseDtype)` instead.\n",
            "  if not hasattr(array, \"sparse\") and array.dtypes.apply(is_sparse).any():\n",
            "c:\\Users\\gilso\\anaconda3\\lib\\site-packages\\sklearn\\utils\\validation.py:623: FutureWarning: is_sparse is deprecated and will be removed in a future version. Check `isinstance(dtype, pd.SparseDtype)` instead.\n",
            "  if not hasattr(array, \"sparse\") and array.dtypes.apply(is_sparse).any():\n",
            "c:\\Users\\gilso\\anaconda3\\lib\\site-packages\\sklearn\\utils\\validation.py:623: FutureWarning: is_sparse is deprecated and will be removed in a future version. Check `isinstance(dtype, pd.SparseDtype)` instead.\n",
            "  if not hasattr(array, \"sparse\") and array.dtypes.apply(is_sparse).any():\n",
            "c:\\Users\\gilso\\anaconda3\\lib\\site-packages\\sklearn\\utils\\validation.py:623: FutureWarning: is_sparse is deprecated and will be removed in a future version. Check `isinstance(dtype, pd.SparseDtype)` instead.\n",
            "  if not hasattr(array, \"sparse\") and array.dtypes.apply(is_sparse).any():\n",
            "c:\\Users\\gilso\\anaconda3\\lib\\site-packages\\sklearn\\utils\\validation.py:623: FutureWarning: is_sparse is deprecated and will be removed in a future version. Check `isinstance(dtype, pd.SparseDtype)` instead.\n",
            "  if not hasattr(array, \"sparse\") and array.dtypes.apply(is_sparse).any():\n",
            "c:\\Users\\gilso\\anaconda3\\lib\\site-packages\\sklearn\\utils\\validation.py:623: FutureWarning: is_sparse is deprecated and will be removed in a future version. Check `isinstance(dtype, pd.SparseDtype)` instead.\n",
            "  if not hasattr(array, \"sparse\") and array.dtypes.apply(is_sparse).any():\n",
            "c:\\Users\\gilso\\anaconda3\\lib\\site-packages\\sklearn\\utils\\validation.py:623: FutureWarning: is_sparse is deprecated and will be removed in a future version. Check `isinstance(dtype, pd.SparseDtype)` instead.\n",
            "  if not hasattr(array, \"sparse\") and array.dtypes.apply(is_sparse).any():\n",
            "c:\\Users\\gilso\\anaconda3\\lib\\site-packages\\sklearn\\utils\\validation.py:623: FutureWarning: is_sparse is deprecated and will be removed in a future version. Check `isinstance(dtype, pd.SparseDtype)` instead.\n",
            "  if not hasattr(array, \"sparse\") and array.dtypes.apply(is_sparse).any():\n",
            "c:\\Users\\gilso\\anaconda3\\lib\\site-packages\\sklearn\\utils\\validation.py:623: FutureWarning: is_sparse is deprecated and will be removed in a future version. Check `isinstance(dtype, pd.SparseDtype)` instead.\n",
            "  if not hasattr(array, \"sparse\") and array.dtypes.apply(is_sparse).any():\n",
            "c:\\Users\\gilso\\anaconda3\\lib\\site-packages\\sklearn\\utils\\validation.py:623: FutureWarning: is_sparse is deprecated and will be removed in a future version. Check `isinstance(dtype, pd.SparseDtype)` instead.\n",
            "  if not hasattr(array, \"sparse\") and array.dtypes.apply(is_sparse).any():\n",
            "c:\\Users\\gilso\\anaconda3\\lib\\site-packages\\sklearn\\utils\\validation.py:623: FutureWarning: is_sparse is deprecated and will be removed in a future version. Check `isinstance(dtype, pd.SparseDtype)` instead.\n",
            "  if not hasattr(array, \"sparse\") and array.dtypes.apply(is_sparse).any():\n",
            "c:\\Users\\gilso\\anaconda3\\lib\\site-packages\\sklearn\\utils\\validation.py:623: FutureWarning: is_sparse is deprecated and will be removed in a future version. Check `isinstance(dtype, pd.SparseDtype)` instead.\n",
            "  if not hasattr(array, \"sparse\") and array.dtypes.apply(is_sparse).any():\n",
            "c:\\Users\\gilso\\anaconda3\\lib\\site-packages\\sklearn\\utils\\validation.py:623: FutureWarning: is_sparse is deprecated and will be removed in a future version. Check `isinstance(dtype, pd.SparseDtype)` instead.\n",
            "  if not hasattr(array, \"sparse\") and array.dtypes.apply(is_sparse).any():\n"
          ]
        }
      ],
      "source": [
        "rf = RandomForestClassifier(random_state = SEED)\n",
        "\n",
        "parameters = {'n_estimators': [10, 100, 300]}\n",
        "\n",
        "clf = GridSearchCV(rf, parameters, cv = 5).fit(X_train, y_train)"
      ]
    },
    {
      "cell_type": "code",
      "execution_count": 27,
      "metadata": {},
      "outputs": [
        {
          "data": {
            "text/plain": [
              "<mlflow.models.model.ModelInfo at 0x2a60836d490>"
            ]
          },
          "execution_count": 27,
          "metadata": {},
          "output_type": "execute_result"
        }
      ],
      "source": [
        "# Vamos querer guardar também o nosso grid search (mais um modelo do sklearn)\n",
        "\n",
        "mlflow.sklearn.log_model(clf, artifact_path=\"grid_search_cv\")"
      ]
    },
    {
      "cell_type": "code",
      "execution_count": 28,
      "metadata": {
        "colab": {
          "base_uri": "https://localhost:8080/"
        },
        "id": "aMJ_jX7A04DZ",
        "outputId": "1737d1c4-8495-45e6-e9ca-b0332a2eaba1"
      },
      "outputs": [],
      "source": [
        "tunned_rf = clf.best_estimator_"
      ]
    },
    {
      "cell_type": "code",
      "execution_count": 29,
      "metadata": {},
      "outputs": [
        {
          "data": {
            "text/plain": [
              "<mlflow.models.model.ModelInfo at 0x2a6083082e0>"
            ]
          },
          "execution_count": 29,
          "metadata": {},
          "output_type": "execute_result"
        }
      ],
      "source": [
        "# E claro, vamos querer guardar também a melhor versão do nosso modelo, a nossa random forest depois do hyper parameter tunning\n",
        "\n",
        "mlflow.sklearn.log_model(tunned_rf, \"tunned_rf\")"
      ]
    },
    {
      "cell_type": "code",
      "execution_count": 30,
      "metadata": {},
      "outputs": [
        {
          "data": {
            "text/plain": [
              "{'bootstrap': True,\n",
              " 'ccp_alpha': 0.0,\n",
              " 'class_weight': None,\n",
              " 'criterion': 'gini',\n",
              " 'max_depth': None,\n",
              " 'max_features': 'auto',\n",
              " 'max_leaf_nodes': None,\n",
              " 'max_samples': None,\n",
              " 'min_impurity_decrease': 0.0,\n",
              " 'min_samples_leaf': 1,\n",
              " 'min_samples_split': 2,\n",
              " 'min_weight_fraction_leaf': 0.0,\n",
              " 'n_estimators': 300,\n",
              " 'n_jobs': None,\n",
              " 'oob_score': False,\n",
              " 'random_state': 42,\n",
              " 'verbose': 0,\n",
              " 'warm_start': False}"
            ]
          },
          "execution_count": 30,
          "metadata": {},
          "output_type": "execute_result"
        }
      ],
      "source": [
        "tunned_rf.get_params()"
      ]
    },
    {
      "cell_type": "code",
      "execution_count": 31,
      "metadata": {
        "id": "HICyzOTi1FJH"
      },
      "outputs": [
        {
          "name": "stderr",
          "output_type": "stream",
          "text": [
            "c:\\Users\\gilso\\anaconda3\\lib\\site-packages\\sklearn\\utils\\validation.py:623: FutureWarning: is_sparse is deprecated and will be removed in a future version. Check `isinstance(dtype, pd.SparseDtype)` instead.\n",
            "  if not hasattr(array, \"sparse\") and array.dtypes.apply(is_sparse).any():\n"
          ]
        }
      ],
      "source": [
        "y_preds = tunned_rf.predict(X_test)"
      ]
    },
    {
      "cell_type": "code",
      "execution_count": 32,
      "metadata": {},
      "outputs": [],
      "source": [
        "acc = accuracy_score(y_test, y_preds)"
      ]
    },
    {
      "cell_type": "code",
      "execution_count": 33,
      "metadata": {},
      "outputs": [],
      "source": [
        "# Por fim vamos querer associar uma métrica de performance ao nosso modelo, neste caso a accuracy\n",
        "\n",
        "mlflow.log_metric(\"accuracy\", acc)"
      ]
    },
    {
      "cell_type": "code",
      "execution_count": 34,
      "metadata": {},
      "outputs": [],
      "source": [
        "mlflow.end_run()"
      ]
    },
    {
      "cell_type": "markdown",
      "metadata": {},
      "source": [
        "## Consultar uma run já concluida"
      ]
    },
    {
      "cell_type": "markdown",
      "metadata": {},
      "source": [
        "Também é possivel consultarmos uma run que executamos previamente.\n",
        "\n",
        "Para tal deve ser utilizado o comando `get_run` e deve ser fornecido a `run_id` associada à run que queremos reutilizar.\n",
        "\n",
        "**Nota:** Este `get_run` não irá fazer com que a run que vão buscar fique ativa - a run ativa continua a ser a que criaram com o `start_run` - podem confirmar isto no `status` presente nos metadados (no output do `run.info`) da run que vão buscar em baixo."
      ]
    },
    {
      "cell_type": "code",
      "execution_count": 35,
      "metadata": {},
      "outputs": [],
      "source": [
        "run = mlflow.get_run(run_id=RUN_ID)"
      ]
    },
    {
      "cell_type": "code",
      "execution_count": 36,
      "metadata": {},
      "outputs": [
        {
          "data": {
            "text/plain": [
              "<RunInfo: artifact_uri=('file:///c:/Users/gilso/OneDrive/Área de '\n",
              " 'Trabalho/rumos/notebooks/random_forest/../../mlruns/local/234761152711065781/86d08183e82145709d77a3bdaad3cfde/artifacts'), end_time=1701106573833, experiment_id='234761152711065781', lifecycle_stage='active', run_id='86d08183e82145709d77a3bdaad3cfde', run_name='Random Forests Run', run_uuid='86d08183e82145709d77a3bdaad3cfde', start_time=1701106556762, status='FINISHED', user_id='gilso'>"
            ]
          },
          "execution_count": 36,
          "metadata": {},
          "output_type": "execute_result"
        }
      ],
      "source": [
        "run.info"
      ]
    },
    {
      "cell_type": "code",
      "execution_count": 37,
      "metadata": {},
      "outputs": [
        {
          "data": {
            "text/plain": [
              "<RunData: metrics={'accuracy': 0.7456140350877193}, params={'seed': '42'}, tags={'mlflow.log-model.history': '[{\"run_id\": \"86d08183e82145709d77a3bdaad3cfde\", '\n",
              "                             '\"artifact_path\": \"std_scaler\", '\n",
              "                             '\"utc_time_created\": \"2023-11-27 '\n",
              "                             '17:35:56.952096\", \"flavors\": {\"sklearn\": '\n",
              "                             '{\"pickled_model\": \"model.pkl\", '\n",
              "                             '\"sklearn_version\": \"1.0.2\", '\n",
              "                             '\"serialization_format\": \"cloudpickle\", \"code\": '\n",
              "                             'null}}, \"model_uuid\": '\n",
              "                             '\"7fdcada833b947549ad93fad1687c7f3\", '\n",
              "                             '\"mlflow_version\": \"2.8.1\", \"model_size_bytes\": '\n",
              "                             '833}, {\"run_id\": '\n",
              "                             '\"86d08183e82145709d77a3bdaad3cfde\", '\n",
              "                             '\"artifact_path\": \"random_forest\", '\n",
              "                             '\"utc_time_created\": \"2023-11-27 '\n",
              "                             '17:36:01.127496\", \"flavors\": {\"python_function\": '\n",
              "                             '{\"model_path\": \"model.pkl\", \"predict_fn\": '\n",
              "                             '\"predict\", \"loader_module\": \"mlflow.sklearn\", '\n",
              "                             '\"python_version\": \"3.9.12\", \"env\": {\"conda\": '\n",
              "                             '\"conda.yaml\", \"virtualenv\": \"python_env.yaml\"}}, '\n",
              "                             '\"sklearn\": {\"pickled_model\": \"model.pkl\", '\n",
              "                             '\"sklearn_version\": \"1.0.2\", '\n",
              "                             '\"serialization_format\": \"cloudpickle\", \"code\": '\n",
              "                             'null}}, \"model_uuid\": '\n",
              "                             '\"de29b7078fa64eccac62100f2592d58e\", '\n",
              "                             '\"mlflow_version\": \"2.8.1\", \"model_size_bytes\": '\n",
              "                             '1190693}, {\"run_id\": '\n",
              "                             '\"86d08183e82145709d77a3bdaad3cfde\", '\n",
              "                             '\"artifact_path\": \"grid_search_cv\", '\n",
              "                             '\"utc_time_created\": \"2023-11-27 '\n",
              "                             '17:36:07.486014\", \"flavors\": {\"python_function\": '\n",
              "                             '{\"model_path\": \"model.pkl\", \"predict_fn\": '\n",
              "                             '\"predict\", \"loader_module\": \"mlflow.sklearn\", '\n",
              "                             '\"python_version\": \"3.9.12\", \"env\": {\"conda\": '\n",
              "                             '\"conda.yaml\", \"virtualenv\": \"python_env.yaml\"}}, '\n",
              "                             '\"sklearn\": {\"pickled_model\": \"model.pkl\", '\n",
              "                             '\"sklearn_version\": \"1.0.2\", '\n",
              "                             '\"serialization_format\": \"cloudpickle\", \"code\": '\n",
              "                             'null}}, \"model_uuid\": '\n",
              "                             '\"fba0ca41815a41b68be69ab5f86a0539\", '\n",
              "                             '\"mlflow_version\": \"2.8.1\", \"model_size_bytes\": '\n",
              "                             '3557730}, {\"run_id\": '\n",
              "                             '\"86d08183e82145709d77a3bdaad3cfde\", '\n",
              "                             '\"artifact_path\": \"tunned_rf\", '\n",
              "                             '\"utc_time_created\": \"2023-11-27 '\n",
              "                             '17:36:10.608108\", \"flavors\": {\"python_function\": '\n",
              "                             '{\"model_path\": \"model.pkl\", \"predict_fn\": '\n",
              "                             '\"predict\", \"loader_module\": \"mlflow.sklearn\", '\n",
              "                             '\"python_version\": \"3.9.12\", \"env\": {\"conda\": '\n",
              "                             '\"conda.yaml\", \"virtualenv\": \"python_env.yaml\"}}, '\n",
              "                             '\"sklearn\": {\"pickled_model\": \"model.pkl\", '\n",
              "                             '\"sklearn_version\": \"1.0.2\", '\n",
              "                             '\"serialization_format\": \"cloudpickle\", \"code\": '\n",
              "                             'null}}, \"model_uuid\": '\n",
              "                             '\"54159c5b7bef4027a6d32cafa88d608a\", '\n",
              "                             '\"mlflow_version\": \"2.8.1\", \"model_size_bytes\": '\n",
              "                             '3556055}]',\n",
              " 'mlflow.runName': 'Random Forests Run',\n",
              " 'mlflow.source.name': 'c:\\\\Users\\\\gilso\\\\anaconda3\\\\lib\\\\site-packages\\\\ipykernel_launcher.py',\n",
              " 'mlflow.source.type': 'LOCAL',\n",
              " 'mlflow.user': 'gilso'}>"
            ]
          },
          "execution_count": 37,
          "metadata": {},
          "output_type": "execute_result"
        }
      ],
      "source": [
        "run.data"
      ]
    },
    {
      "cell_type": "code",
      "execution_count": null,
      "metadata": {},
      "outputs": [],
      "source": []
    },
    {
      "cell_type": "markdown",
      "metadata": {},
      "source": [
        "### Reutilizar uma run já concluida"
      ]
    },
    {
      "attachments": {},
      "cell_type": "markdown",
      "metadata": {},
      "source": [
        "Caso quisessemos reutilizar (e não apenas consultar) uma run já realizada teriamos que fazer\n",
        "\n",
        "```\n",
        "mlflow.start_run(run_id=RUN_ID) \n",
        "```\n",
        "\n",
        "Com o comando acima iriamos reactivar a run com o id presente na variável `RUN_ID`\n",
        "\n",
        "**Nota:** Caso outra run já esteja ativa o comando acima iria falhar, já que primeiro seria necessário fazer o `mlflow.end_run` da run activa. "
      ]
    },
    {
      "cell_type": "markdown",
      "metadata": {},
      "source": [
        "## Opcional - Ver a experiência na UI do mlflow"
      ]
    },
    {
      "attachments": {},
      "cell_type": "markdown",
      "metadata": {},
      "source": [
        "A UI do mlflow permite ver de forma visual todas as experiências criadas e permite por exemplo, comparar, filtar e ordenar, as runs dentro de uma experiência de forma visual.\n",
        "\n",
        "Para correr a UI do mflow é necessário executar, na Anaconda Prompt na raiz deste projeto (pasta rumos) e tendo activo o ambiente utilizado neste projeto, o comando:\n",
        "\n",
        "`mlflow ui --backend-store-uri ./mlruns/local`\n",
        "\n",
        "**Nota:** O comando em cima irá iniciar a UI de mlflow na porta 5000. Caso queiram mudar esta porta devem acrescentar `--port <PORT>` ao comando (em que <PORT> deve ser substituido pela porta desejada). \n",
        "\n",
        "O comando acima não irá funcionar caso tenham tido alguns problemas no Windows com a instalação do mlflow, mas como o título desta secção indica este passo é apenas opcional e não irá ser avaliado.\n",
        "\n",
        "Após executarem este comando, vão poder ver a UI do mlflow no vosso browser acedendo a \n",
        "\n",
        "`localhost:5000`\n",
        "\n",
        "(se tiverem alterado a porta em que o mlflow UI é iniciado então devem de alterar também aqui o 5000 por essa porta)\n",
        "\n",
        "Na tab de `Experiments` podem explorar as experiências e runs que criaram.\n",
        "\n",
        "Referências:\n",
        "* [Tracking UI](https://www.mlflow.org/docs/2.7.1/tracking.html#tracking-ui)\n",
        "* [command line mlflow ui](https://www.mlflow.org/docs/2.7.1/cli.html#mlflow-ui)"
      ]
    }
  ],
  "metadata": {
    "colab": {
      "collapsed_sections": [],
      "name": "09_random_forests.ipynb",
      "provenance": []
    },
    "kernelspec": {
      "display_name": "Python 3.8.13 ('rumos-class-oml')",
      "language": "python",
      "name": "python3"
    },
    "language_info": {
      "codemirror_mode": {
        "name": "ipython",
        "version": 3
      },
      "file_extension": ".py",
      "mimetype": "text/x-python",
      "name": "python",
      "nbconvert_exporter": "python",
      "pygments_lexer": "ipython3",
      "version": "3.9.12"
    },
    "vscode": {
      "interpreter": {
        "hash": "5a97069f8d9d8e941bb8a3a542a648f8b4bcb13721f1771979b015a903dcf22b"
      }
    }
  },
  "nbformat": 4,
  "nbformat_minor": 0
}

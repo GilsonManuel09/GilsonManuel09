{
  "cells": [
    {
      "cell_type": "code",
      "execution_count": null,
      "metadata": {
        "id": "Tf8XGYV5zbsP"
      },
      "outputs": [],
      "source": [
        "import pandas as pd\n",
        "from sklearn.preprocessing import StandardScaler\n",
        "from sklearn.metrics import accuracy_score\n",
        "from sklearn.model_selection import GridSearchCV\n",
        "from sklearn.ensemble import RandomForestClassifier"
      ]
    },
    {
      "cell_type": "code",
      "execution_count": null,
      "metadata": {
        "colab": {
          "base_uri": "https://localhost:8080/"
        },
        "id": "8fH_r9GvzVEo",
        "outputId": "1890ba44-d2bc-414c-8bea-028e052eb9a5"
      },
      "outputs": [],
      "source": [
        "ROOT_PATH = '../../data/'\n",
        "SEED = 42\n",
        "TARGET_COL = \"Outcome\""
      ]
    },
    {
      "cell_type": "code",
      "execution_count": null,
      "metadata": {},
      "outputs": [],
      "source": [
        "train_path = ROOT_PATH + 'diabetes_train.csv'\n",
        "test_path = ROOT_PATH + 'diabetes_test.csv'\n",
        "\n",
        "train_set = pd.read_csv(train_path)\n",
        "test_set = pd.read_csv(test_path)"
      ]
    },
    {
      "cell_type": "code",
      "execution_count": null,
      "metadata": {},
      "outputs": [],
      "source": [
        "X_train = train_set.drop([TARGET_COL], axis = 1)\n",
        "y_train = train_set[TARGET_COL]\n",
        "\n",
        "X_test = test_set.drop([TARGET_COL], axis = 1)\n",
        "y_test = test_set[TARGET_COL]"
      ]
    },
    {
      "cell_type": "code",
      "execution_count": null,
      "metadata": {},
      "outputs": [],
      "source": [
        "X_train.head()"
      ]
    },
    {
      "cell_type": "code",
      "execution_count": null,
      "metadata": {},
      "outputs": [],
      "source": [
        "scaler = StandardScaler()\n",
        "\n",
        "features_names = X_train.columns\n",
        "\n",
        "X_train[features_names] = scaler.fit_transform(X_train)\n",
        "X_test[features_names] = scaler.transform(X_test)"
      ]
    },
    {
      "cell_type": "code",
      "execution_count": null,
      "metadata": {},
      "outputs": [],
      "source": [
        "X_train.head()"
      ]
    },
    {
      "cell_type": "code",
      "execution_count": null,
      "metadata": {
        "id": "EFzppuepzzKB"
      },
      "outputs": [],
      "source": [
        "rf = RandomForestClassifier(random_state = SEED).fit(X_train, y_train)"
      ]
    },
    {
      "cell_type": "code",
      "execution_count": null,
      "metadata": {
        "id": "c2O49gd00DEg"
      },
      "outputs": [],
      "source": [
        "y_preds = rf.predict(X_test)"
      ]
    },
    {
      "cell_type": "code",
      "execution_count": null,
      "metadata": {},
      "outputs": [],
      "source": [
        "accuracy_score(y_test, y_preds)"
      ]
    },
    {
      "cell_type": "code",
      "execution_count": null,
      "metadata": {},
      "outputs": [],
      "source": [
        "feature_imp = pd.Series(rf.feature_importances_, index = X_train.columns).sort_values(ascending = False)\n",
        "feature_imp"
      ]
    },
    {
      "cell_type": "code",
      "execution_count": null,
      "metadata": {
        "id": "6MzRYWGj0WLx"
      },
      "outputs": [],
      "source": [
        "rf = RandomForestClassifier(random_state = SEED)\n",
        "\n",
        "parameters = {'n_estimators': [10, 100, 300]}\n",
        "\n",
        "clf = GridSearchCV(rf, parameters, cv = 5).fit(X_train, y_train)"
      ]
    },
    {
      "cell_type": "code",
      "execution_count": null,
      "metadata": {
        "colab": {
          "base_uri": "https://localhost:8080/"
        },
        "id": "aMJ_jX7A04DZ",
        "outputId": "1737d1c4-8495-45e6-e9ca-b0332a2eaba1"
      },
      "outputs": [],
      "source": [
        "tunned_rf = clf.best_estimator_"
      ]
    },
    {
      "cell_type": "code",
      "execution_count": null,
      "metadata": {},
      "outputs": [],
      "source": [
        "tunned_rf.get_params()"
      ]
    },
    {
      "cell_type": "code",
      "execution_count": null,
      "metadata": {
        "id": "HICyzOTi1FJH"
      },
      "outputs": [],
      "source": [
        "y_preds = tunned_rf.predict(X_test)"
      ]
    },
    {
      "cell_type": "code",
      "execution_count": null,
      "metadata": {},
      "outputs": [],
      "source": [
        "accuracy_score(y_test, y_preds)"
      ]
    },
    {
      "cell_type": "code",
      "execution_count": null,
      "metadata": {},
      "outputs": [],
      "source": []
    }
  ],
  "metadata": {
    "colab": {
      "collapsed_sections": [],
      "name": "09_random_forests.ipynb",
      "provenance": []
    },
    "kernelspec": {
      "display_name": "Python 3.8.13 ('rumos-class-oml')",
      "language": "python",
      "name": "python3"
    },
    "language_info": {
      "codemirror_mode": {
        "name": "ipython",
        "version": 3
      },
      "file_extension": ".py",
      "mimetype": "text/x-python",
      "name": "python",
      "nbconvert_exporter": "python",
      "pygments_lexer": "ipython3",
      "version": "3.9.12"
    },
    "vscode": {
      "interpreter": {
        "hash": "5a97069f8d9d8e941bb8a3a542a648f8b4bcb13721f1771979b015a903dcf22b"
      }
    }
  },
  "nbformat": 4,
  "nbformat_minor": 0
}

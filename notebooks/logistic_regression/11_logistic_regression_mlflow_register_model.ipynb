{
  "cells": [
    {
      "cell_type": "markdown",
      "metadata": {},
      "source": [
        "# Vamos utilizar o mlflow para versionar os nossos modelos "
      ]
    },
    {
      "cell_type": "code",
      "execution_count": 1,
      "metadata": {},
      "outputs": [],
      "source": [
        "import mlflow"
      ]
    },
    {
      "cell_type": "code",
      "execution_count": 2,
      "metadata": {},
      "outputs": [],
      "source": [
        "import pandas as pd\n",
        "from sklearn.preprocessing import StandardScaler\n",
        "from sklearn.metrics import accuracy_score\n",
        "from sklearn.model_selection import GridSearchCV\n",
        "from sklearn.linear_model import LogisticRegression"
      ]
    },
    {
      "cell_type": "code",
      "execution_count": 3,
      "metadata": {},
      "outputs": [],
      "source": [
        "ROOT_PATH = '../../data/'\n",
        "SEED = 42\n",
        "TARGET_COL = \"Outcome\""
      ]
    },
    {
      "cell_type": "markdown",
      "metadata": {},
      "source": [
        "## Utilizar o sqlite para fazer track das experiências"
      ]
    },
    {
      "cell_type": "code",
      "execution_count": null,
      "metadata": {},
      "outputs": [],
      "source": [
        "mlflow.set_tracking_uri(\"sqlite:///../../mlruns/mlflow.db\")"
      ]
    },
    {
      "cell_type": "markdown",
      "metadata": {},
      "source": [
        "## Fazer criar e fazer set da experiência \"Diabetes Prediction Experiment\""
      ]
    },
    {
      "cell_type": "markdown",
      "metadata": {},
      "source": [
        "Com este novo tracking_uri, se fizermos apenas `mlflow.set_experiment(experiment_name=\"Diabetes Prediction Experiment\")` como no notebook anterior os artifacts vão ser guardados numa pasta de `mlruns` dentro da pasta `logistic_regression`.\n",
        "\n",
        "Para termos os artifacts dentro da pasta `mlruns` que está na root da pasta `rumos` temos que especificar explicitamente o `artifact_location` e usar primeiro o `create_experiment` com este parâmetro, e só depois fazer o `set_experiment`. O `set_experiment` faz internamente um `create_experiment` caso a experiência com aquele nome não exista, mas como não recebe o parâmetro `artifact_location` neste caso temos que chamar explicitamente o `create_experiment` "
      ]
    },
    {
      "cell_type": "code",
      "execution_count": null,
      "metadata": {},
      "outputs": [],
      "source": []
    },
    {
      "cell_type": "markdown",
      "metadata": {},
      "source": [
        "## Criar os datasets"
      ]
    },
    {
      "cell_type": "code",
      "execution_count": null,
      "metadata": {},
      "outputs": [],
      "source": [
        "train_path = ROOT_PATH + 'diabetes_train.csv'\n",
        "test_path = ROOT_PATH + 'diabetes_test.csv'\n",
        "\n",
        "train_set = pd.read_csv(train_path)\n",
        "test_set = pd.read_csv(test_path)"
      ]
    },
    {
      "cell_type": "code",
      "execution_count": null,
      "metadata": {},
      "outputs": [],
      "source": []
    },
    {
      "cell_type": "markdown",
      "metadata": {},
      "source": [
        "## Criar uma run"
      ]
    },
    {
      "cell_type": "code",
      "execution_count": null,
      "metadata": {},
      "outputs": [],
      "source": []
    },
    {
      "cell_type": "markdown",
      "metadata": {},
      "source": [
        "## Guardar datasets, modelos, artefactos, métricas e parametros da run - e **registar modelo**"
      ]
    },
    {
      "cell_type": "code",
      "execution_count": null,
      "metadata": {},
      "outputs": [],
      "source": [
        "X_train = train_set.drop([TARGET_COL], axis = 1)\n",
        "y_train = train_set[TARGET_COL]\n",
        "\n",
        "X_test = test_set.drop([TARGET_COL], axis = 1)\n",
        "y_test = test_set[TARGET_COL]"
      ]
    },
    {
      "cell_type": "code",
      "execution_count": null,
      "metadata": {},
      "outputs": [],
      "source": [
        "scaler = StandardScaler()\n",
        "\n",
        "features_names = X_train.columns\n",
        "\n",
        "X_train[features_names] = scaler.fit_transform(X_train)\n",
        "X_test[features_names] = scaler.transform(X_test)"
      ]
    },
    {
      "cell_type": "code",
      "execution_count": null,
      "metadata": {},
      "outputs": [],
      "source": [
        "X_train.head()"
      ]
    },
    {
      "cell_type": "code",
      "execution_count": null,
      "metadata": {},
      "outputs": [],
      "source": [
        "X_train.head()"
      ]
    },
    {
      "cell_type": "code",
      "execution_count": null,
      "metadata": {
        "id": "EFzppuepzzKB"
      },
      "outputs": [],
      "source": [
        "logistic_reg = LogisticRegression(random_state = SEED).fit(X_train, y_train)"
      ]
    },
    {
      "cell_type": "code",
      "execution_count": null,
      "metadata": {
        "id": "c2O49gd00DEg"
      },
      "outputs": [],
      "source": [
        "y_preds = logistic_reg.predict(X_test)"
      ]
    },
    {
      "cell_type": "code",
      "execution_count": null,
      "metadata": {},
      "outputs": [],
      "source": [
        "accuracy_score(y_test, y_preds)"
      ]
    },
    {
      "cell_type": "code",
      "execution_count": null,
      "metadata": {
        "id": "6MzRYWGj0WLx"
      },
      "outputs": [],
      "source": [
        "logistic_reg = LogisticRegression(random_state = SEED)\n",
        "\n",
        "parameters = {'C': [0.001,0.01,0.1,1,10,100]}\n",
        "\n",
        "clf = GridSearchCV(logistic_reg, parameters, cv = 5).fit(X_train, y_train)"
      ]
    },
    {
      "cell_type": "code",
      "execution_count": null,
      "metadata": {
        "colab": {
          "base_uri": "https://localhost:8080/"
        },
        "id": "aMJ_jX7A04DZ",
        "outputId": "1737d1c4-8495-45e6-e9ca-b0332a2eaba1"
      },
      "outputs": [],
      "source": [
        "tunned_logistic_reg = clf.best_estimator_"
      ]
    },
    {
      "cell_type": "code",
      "execution_count": null,
      "metadata": {},
      "outputs": [],
      "source": [
        "tunned_logistic_reg.get_params()"
      ]
    },
    {
      "cell_type": "code",
      "execution_count": null,
      "metadata": {
        "id": "HICyzOTi1FJH"
      },
      "outputs": [],
      "source": [
        "y_preds = tunned_logistic_reg.predict(X_test)"
      ]
    },
    {
      "cell_type": "code",
      "execution_count": null,
      "metadata": {},
      "outputs": [],
      "source": [
        "acc = accuracy_score(y_test, y_preds)"
      ]
    },
    {
      "cell_type": "markdown",
      "metadata": {},
      "source": [
        "## Terminar a run"
      ]
    },
    {
      "cell_type": "code",
      "execution_count": null,
      "metadata": {},
      "outputs": [],
      "source": []
    },
    {
      "cell_type": "markdown",
      "metadata": {},
      "source": [
        "## Opcional - Ver o modelo registado na UI do mlflow"
      ]
    },
    {
      "attachments": {},
      "cell_type": "markdown",
      "metadata": {},
      "source": [
        "A UI do mlflow permite ver de forma visual todos os modelos registados até ao momento, qual é a útlima versão do mesmo e a que runs estão associados.\n",
        "\n",
        "Para correr a UI do mflow, tendo nós o modelo registado na db, temos que especificar esta db como a \"backend store\" em que temos os metados.\n",
        "\n",
        "Para correr a UI do mflow é necessário executar, na Anaconda Prompt na raiz deste projeto (pasta rumos) e tendo activo o ambiente utilizado neste projeto, o comando:\n",
        "\n",
        "`mlflow ui --backend-store-uri sqlite:///./mlruns/mlflow.db`\n",
        "\n",
        "**Nota:** O comando em cima irá iniciar a UI de mlflow na porta 5000. Caso queiram mudar esta porta devem acrescentar `--port <PORT>` ao comando (em que <PORT> deve ser substituido pela porta desejada). \n",
        "\n",
        "O comando acima não irá funcionar caso tenham tido alguns problemas no Windows com a instalação do mlflow, mas como o título desta secção indica este passo é apenas opcional e não irá ser avaliado.\n",
        "\n",
        "Após executarem este comando, vão poder ver a UI do mlflow no vosso browser acedendo a \n",
        "\n",
        "`localhost:5000`\n",
        "\n",
        "(se tiverem alterado a porta em que o mlflow UI é iniciado então devem de alterar também aqui o 5000 por essa porta)\n",
        "\n",
        "Na tab de `Models` podem explorar os modelos que registaram."
      ]
    }
  ],
  "metadata": {
    "colab": {
      "collapsed_sections": [],
      "name": "09_random_forests.ipynb",
      "provenance": []
    },
    "kernelspec": {
      "display_name": "Python 3.8.13 ('rumos-class-oml')",
      "language": "python",
      "name": "python3"
    },
    "language_info": {
      "codemirror_mode": {
        "name": "ipython",
        "version": 3
      },
      "file_extension": ".py",
      "mimetype": "text/x-python",
      "name": "python",
      "nbconvert_exporter": "python",
      "pygments_lexer": "ipython3",
      "version": "3.9.12"
    },
    "vscode": {
      "interpreter": {
        "hash": "5a97069f8d9d8e941bb8a3a542a648f8b4bcb13721f1771979b015a903dcf22b"
      }
    }
  },
  "nbformat": 4,
  "nbformat_minor": 0
}
